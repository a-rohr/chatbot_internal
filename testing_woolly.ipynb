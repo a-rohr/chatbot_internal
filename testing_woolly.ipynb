{
 "cells": [
  {
   "cell_type": "code",
   "execution_count": 1,
   "metadata": {},
   "outputs": [],
   "source": [
    "import openai\n",
    "import os\n",
    "import config_logins as cl\n",
    "\n",
    "api_key = cl.API_KEY\n",
    "os.environ[\"OPENAI_API_KEY\"] = api_key"
   ]
  },
  {
   "cell_type": "code",
   "execution_count": 2,
   "metadata": {},
   "outputs": [],
   "source": [
    "openai.api_base = \"https://openai.woolly.ai/v1\"\n",
    "openai.api_key = api_key"
   ]
  },
  {
   "cell_type": "code",
   "execution_count": 3,
   "metadata": {},
   "outputs": [
    {
     "name": "stdout",
     "output_type": "stream",
     "text": [
      "Particle accelerators work by using electromagnetic fields to accelerate charged particles to incredibly high speeds. The particles are first injected into a vacuum chamber and then guided and accelerated by electric and magnetic fields. \n",
      "\n",
      "The process typically involves a series of accelerating structures or cavities, each containing a radiofrequency field that transfers energy to the particles as they travel through. The particles are then focused and guided by magnets that steer them around a circular or linear path, increasing their energy with each pass through the accelerating cavities. \n",
      "\n",
      "High-energy particle beams can then be extracted from the accelerator and directed to collide with targets or into detectors, where scientists can study the fundamental properties of matter or create new particles. \n",
      "\n",
      "Particle accelerators come in various sizes and types, from tabletop devices to massive machines like the Large Hadron Collider (LHC) at CERN, which can accelerate particles to nearly the speed of light.\n"
     ]
    }
   ],
   "source": [
    "completion = openai.ChatCompletion.create(model=\"gpt-3.5-turbo\", messages = [{\"role\": \"user\", \"content\": \"How do particle accelerators work?\"}])\n",
    "print(completion.choices[0].message.content)"
   ]
  }
 ],
 "metadata": {
  "kernelspec": {
   "display_name": "Python 3",
   "language": "python",
   "name": "python3"
  },
  "language_info": {
   "codemirror_mode": {
    "name": "ipython",
    "version": 3
   },
   "file_extension": ".py",
   "mimetype": "text/x-python",
   "name": "python",
   "nbconvert_exporter": "python",
   "pygments_lexer": "ipython3",
   "version": "3.8.10"
  },
  "orig_nbformat": 4
 },
 "nbformat": 4,
 "nbformat_minor": 2
}
